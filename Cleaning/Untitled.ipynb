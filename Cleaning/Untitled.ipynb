{
 "cells": [
  {
   "cell_type": "code",
   "execution_count": 45,
   "metadata": {},
   "outputs": [],
   "source": [
    "import pandas as pd\n",
    "import numpy as np\n",
    "import csv\n",
    "\n"
   ]
  },
  {
   "cell_type": "code",
   "execution_count": 46,
   "metadata": {},
   "outputs": [
    {
     "data": {
      "text/plain": [
       "WindowsPath('C:/Users/Regina/Final_Project/Cleaning')"
      ]
     },
     "execution_count": 46,
     "metadata": {},
     "output_type": "execute_result"
    }
   ],
   "source": [
    "import pathlib\n",
    "pathlib.Path().absolute()"
   ]
  },
  {
   "cell_type": "code",
   "execution_count": 47,
   "metadata": {
    "scrolled": true
   },
   "outputs": [
    {
     "data": {
      "text/html": [
       "<div>\n",
       "<style scoped>\n",
       "    .dataframe tbody tr th:only-of-type {\n",
       "        vertical-align: middle;\n",
       "    }\n",
       "\n",
       "    .dataframe tbody tr th {\n",
       "        vertical-align: top;\n",
       "    }\n",
       "\n",
       "    .dataframe thead th {\n",
       "        text-align: right;\n",
       "    }\n",
       "</style>\n",
       "<table border=\"1\" class=\"dataframe\">\n",
       "  <thead>\n",
       "    <tr style=\"text-align: right;\">\n",
       "      <th></th>\n",
       "      <th>CMPLNT_NUM</th>\n",
       "      <th>ADDR_PCT_CD</th>\n",
       "      <th>BORO_NM</th>\n",
       "      <th>CMPLNT_FR_DT</th>\n",
       "      <th>CMPLNT_FR_TM</th>\n",
       "      <th>CMPLNT_TO_DT</th>\n",
       "      <th>CMPLNT_TO_TM</th>\n",
       "      <th>CRM_ATPT_CPTD_CD</th>\n",
       "      <th>JURIS_DESC</th>\n",
       "      <th>KY_CD</th>\n",
       "      <th>...</th>\n",
       "      <th>SUSP_RACE</th>\n",
       "      <th>U</th>\n",
       "      <th>VIC_AGE_GROUP</th>\n",
       "      <th>VIC_RACE</th>\n",
       "      <th>VIC_SEX</th>\n",
       "      <th>X_COORD_CD</th>\n",
       "      <th>Y_COORD_CD</th>\n",
       "      <th>Latitude</th>\n",
       "      <th>Longitude</th>\n",
       "      <th>Lat_Lon</th>\n",
       "    </tr>\n",
       "  </thead>\n",
       "  <tbody>\n",
       "    <tr>\n",
       "      <th>0</th>\n",
       "      <td>897166826</td>\n",
       "      <td>32</td>\n",
       "      <td>MANHATTAN</td>\n",
       "      <td>1/1/2010</td>\n",
       "      <td>4:00:00</td>\n",
       "      <td>NaN</td>\n",
       "      <td>NaN</td>\n",
       "      <td>COMPLETED</td>\n",
       "      <td>N.Y. POLICE DEPT</td>\n",
       "      <td>344</td>\n",
       "      <td>...</td>\n",
       "      <td>UNKNOWN</td>\n",
       "      <td>U</td>\n",
       "      <td>25-44</td>\n",
       "      <td>BLACK</td>\n",
       "      <td>M</td>\n",
       "      <td>1000600</td>\n",
       "      <td>237702</td>\n",
       "      <td>40.81910585</td>\n",
       "      <td>-73.94093041</td>\n",
       "      <td>(40.81910584700006, -73.94093041099995)</td>\n",
       "    </tr>\n",
       "    <tr>\n",
       "      <th>1</th>\n",
       "      <td>796842361</td>\n",
       "      <td>14</td>\n",
       "      <td>MANHATTAN</td>\n",
       "      <td>1/1/2010</td>\n",
       "      <td>11:55:00</td>\n",
       "      <td>NaN</td>\n",
       "      <td>NaN</td>\n",
       "      <td>COMPLETED</td>\n",
       "      <td>N.Y. POLICE DEPT</td>\n",
       "      <td>341</td>\n",
       "      <td>...</td>\n",
       "      <td>NaN</td>\n",
       "      <td>U</td>\n",
       "      <td>UNKNOWN</td>\n",
       "      <td>UNKNOWN</td>\n",
       "      <td>D</td>\n",
       "      <td>987220</td>\n",
       "      <td>212676</td>\n",
       "      <td>40.75043077</td>\n",
       "      <td>-73.98928218</td>\n",
       "      <td>(40.75043076800006, -73.98928217599996)</td>\n",
       "    </tr>\n",
       "    <tr>\n",
       "      <th>2</th>\n",
       "      <td>526032424</td>\n",
       "      <td>14</td>\n",
       "      <td>MANHATTAN</td>\n",
       "      <td>1/1/2010</td>\n",
       "      <td>18:30:00</td>\n",
       "      <td>2/20/2020</td>\n",
       "      <td>19:40:00</td>\n",
       "      <td>COMPLETED</td>\n",
       "      <td>N.Y. POLICE DEPT</td>\n",
       "      <td>578</td>\n",
       "      <td>...</td>\n",
       "      <td>NaN</td>\n",
       "      <td>U</td>\n",
       "      <td>25-44</td>\n",
       "      <td>BLACK</td>\n",
       "      <td>F</td>\n",
       "      <td>989633</td>\n",
       "      <td>213425</td>\n",
       "      <td>40.75248545</td>\n",
       "      <td>-73.98057262</td>\n",
       "      <td>(40.75248544500005, -73.98057261799994)</td>\n",
       "    </tr>\n",
       "    <tr>\n",
       "      <th>3</th>\n",
       "      <td>886487505</td>\n",
       "      <td>111</td>\n",
       "      <td>QUEENS</td>\n",
       "      <td>1/1/2010</td>\n",
       "      <td>20:00:00</td>\n",
       "      <td>2/22/2020</td>\n",
       "      <td>10:00:00</td>\n",
       "      <td>COMPLETED</td>\n",
       "      <td>N.Y. POLICE DEPT</td>\n",
       "      <td>116</td>\n",
       "      <td>...</td>\n",
       "      <td>NaN</td>\n",
       "      <td>U</td>\n",
       "      <td>18-24</td>\n",
       "      <td>WHITE</td>\n",
       "      <td>F</td>\n",
       "      <td>1048565</td>\n",
       "      <td>216315</td>\n",
       "      <td>40.76018548</td>\n",
       "      <td>-73.76784258</td>\n",
       "      <td>(40.76018547900003, -73.76784258499998)</td>\n",
       "    </tr>\n",
       "    <tr>\n",
       "      <th>4</th>\n",
       "      <td>457505495</td>\n",
       "      <td>28</td>\n",
       "      <td>MANHATTAN</td>\n",
       "      <td>1/1/2010</td>\n",
       "      <td>20:30:00</td>\n",
       "      <td>2/22/2020</td>\n",
       "      <td>20:40:00</td>\n",
       "      <td>COMPLETED</td>\n",
       "      <td>N.Y. POLICE DEPT</td>\n",
       "      <td>117</td>\n",
       "      <td>...</td>\n",
       "      <td>NaN</td>\n",
       "      <td>U</td>\n",
       "      <td>UNKNOWN</td>\n",
       "      <td>UNKNOWN</td>\n",
       "      <td>E</td>\n",
       "      <td>997427</td>\n",
       "      <td>230378</td>\n",
       "      <td>40.7990088</td>\n",
       "      <td>-73.95240854</td>\n",
       "      <td>(40.799008797000056, -73.95240854099995)</td>\n",
       "    </tr>\n",
       "  </tbody>\n",
       "</table>\n",
       "<p>5 rows × 29 columns</p>\n",
       "</div>"
      ],
      "text/plain": [
       "  CMPLNT_NUM ADDR_PCT_CD    BORO_NM CMPLNT_FR_DT CMPLNT_FR_TM CMPLNT_TO_DT  \\\n",
       "0  897166826          32  MANHATTAN     1/1/2010      4:00:00          NaN   \n",
       "1  796842361          14  MANHATTAN     1/1/2010     11:55:00          NaN   \n",
       "2  526032424          14  MANHATTAN     1/1/2010     18:30:00    2/20/2020   \n",
       "3  886487505         111     QUEENS     1/1/2010     20:00:00    2/22/2020   \n",
       "4  457505495          28  MANHATTAN     1/1/2010     20:30:00    2/22/2020   \n",
       "\n",
       "  CMPLNT_TO_TM CRM_ATPT_CPTD_CD        JURIS_DESC KY_CD  ... SUSP_RACE  U  \\\n",
       "0          NaN        COMPLETED  N.Y. POLICE DEPT   344  ...   UNKNOWN  U   \n",
       "1          NaN        COMPLETED  N.Y. POLICE DEPT   341  ...       NaN  U   \n",
       "2     19:40:00        COMPLETED  N.Y. POLICE DEPT   578  ...       NaN  U   \n",
       "3     10:00:00        COMPLETED  N.Y. POLICE DEPT   116  ...       NaN  U   \n",
       "4     20:40:00        COMPLETED  N.Y. POLICE DEPT   117  ...       NaN  U   \n",
       "\n",
       "  VIC_AGE_GROUP VIC_RACE VIC_SEX X_COORD_CD Y_COORD_CD     Latitude  \\\n",
       "0         25-44    BLACK       M    1000600     237702  40.81910585   \n",
       "1       UNKNOWN  UNKNOWN       D     987220     212676  40.75043077   \n",
       "2         25-44    BLACK       F     989633     213425  40.75248545   \n",
       "3         18-24    WHITE       F    1048565     216315  40.76018548   \n",
       "4       UNKNOWN  UNKNOWN       E     997427     230378   40.7990088   \n",
       "\n",
       "      Longitude                                   Lat_Lon  \n",
       "0  -73.94093041   (40.81910584700006, -73.94093041099995)  \n",
       "1  -73.98928218   (40.75043076800006, -73.98928217599996)  \n",
       "2  -73.98057262   (40.75248544500005, -73.98057261799994)  \n",
       "3  -73.76784258   (40.76018547900003, -73.76784258499998)  \n",
       "4  -73.95240854  (40.799008797000056, -73.95240854099995)  \n",
       "\n",
       "[5 rows x 29 columns]"
      ]
     },
     "execution_count": 47,
     "metadata": {},
     "output_type": "execute_result"
    }
   ],
   "source": [
    "nypd = pd.read_csv (r\"C:/Users/Regina/Final_Project/Data/nypd.csv\", sep=',', error_bad_lines=False, index_col=False, dtype='unicode', low_memory=False)\n",
    "nypd.head()"
   ]
  },
  {
   "cell_type": "code",
   "execution_count": 48,
   "metadata": {},
   "outputs": [
    {
     "name": "stdout",
     "output_type": "stream",
     "text": [
      "(196626, 29)\n"
     ]
    }
   ],
   "source": [
    "print(nypd.shape)"
   ]
  },
  {
   "cell_type": "code",
   "execution_count": 49,
   "metadata": {},
   "outputs": [
    {
     "name": "stdout",
     "output_type": "stream",
     "text": [
      "Index(['CMPLNT_NUM', 'ADDR_PCT_CD', 'BORO_NM', 'CMPLNT_FR_DT', 'CMPLNT_FR_TM',\n",
      "       'CMPLNT_TO_DT', 'CMPLNT_TO_TM', 'CRM_ATPT_CPTD_CD', 'JURIS_DESC',\n",
      "       'KY_CD', 'LAW_CAT_CD', 'LOC_OF_OCCUR_DESC', 'OFNS_DESC', 'PATROL_BORO',\n",
      "       'PD_CD', 'PD_DESC', 'PREM_TYP_DESC', 'RPT_DT', 'SUSP_AGE_GROUP',\n",
      "       'SUSP_RACE', 'U', 'VIC_AGE_GROUP', 'VIC_RACE', 'VIC_SEX', 'X_COORD_CD',\n",
      "       'Y_COORD_CD', 'Latitude', 'Longitude', 'Lat_Lon'],\n",
      "      dtype='object')\n"
     ]
    }
   ],
   "source": [
    "print(nypd.columns)"
   ]
  },
  {
   "cell_type": "code",
   "execution_count": 50,
   "metadata": {},
   "outputs": [
    {
     "name": "stdout",
     "output_type": "stream",
     "text": [
      "<class 'pandas.core.frame.DataFrame'>\n",
      "RangeIndex: 196626 entries, 0 to 196625\n",
      "Data columns (total 29 columns):\n",
      " #   Column             Non-Null Count   Dtype \n",
      "---  ------             --------------   ----- \n",
      " 0   CMPLNT_NUM         196474 non-null  object\n",
      " 1   ADDR_PCT_CD        196474 non-null  object\n",
      " 2   BORO_NM            196286 non-null  object\n",
      " 3   CMPLNT_FR_DT       196474 non-null  object\n",
      " 4   CMPLNT_FR_TM       196474 non-null  object\n",
      " 5   CMPLNT_TO_DT       176827 non-null  object\n",
      " 6   CMPLNT_TO_TM       176883 non-null  object\n",
      " 7   CRM_ATPT_CPTD_CD   196474 non-null  object\n",
      " 8   JURIS_DESC         196474 non-null  object\n",
      " 9   KY_CD              196474 non-null  object\n",
      " 10  LAW_CAT_CD         196474 non-null  object\n",
      " 11  LOC_OF_OCCUR_DESC  165080 non-null  object\n",
      " 12  OFNS_DESC          196473 non-null  object\n",
      " 13  PATROL_BORO        196299 non-null  object\n",
      " 14  PD_CD              196299 non-null  object\n",
      " 15  PD_DESC            196299 non-null  object\n",
      " 16  PREM_TYP_DESC      195893 non-null  object\n",
      " 17  RPT_DT             196474 non-null  object\n",
      " 18  SUSP_AGE_GROUP     149785 non-null  object\n",
      " 19  SUSP_RACE          149785 non-null  object\n",
      " 20  U                  196626 non-null  object\n",
      " 21  VIC_AGE_GROUP      196473 non-null  object\n",
      " 22  VIC_RACE           196473 non-null  object\n",
      " 23  VIC_SEX            196473 non-null  object\n",
      " 24  X_COORD_CD         196474 non-null  object\n",
      " 25  Y_COORD_CD         196474 non-null  object\n",
      " 26  Latitude           196474 non-null  object\n",
      " 27  Longitude          196474 non-null  object\n",
      " 28  Lat_Lon            196474 non-null  object\n",
      "dtypes: object(29)\n",
      "memory usage: 43.5+ MB\n",
      "None\n"
     ]
    }
   ],
   "source": [
    "print(nypd.info())"
   ]
  },
  {
   "cell_type": "code",
   "execution_count": 51,
   "metadata": {},
   "outputs": [
    {
     "data": {
      "text/plain": [
       "0         False\n",
       "1         False\n",
       "2         False\n",
       "3         False\n",
       "4         False\n",
       "          ...  \n",
       "196621     True\n",
       "196622     True\n",
       "196623     True\n",
       "196624     True\n",
       "196625     True\n",
       "Name: BORO_NM, Length: 196626, dtype: bool"
      ]
     },
     "execution_count": 51,
     "metadata": {},
     "output_type": "execute_result"
    }
   ],
   "source": [
    "nypd[\"BORO_NM\"].isnull()"
   ]
  },
  {
   "cell_type": "code",
   "execution_count": 52,
   "metadata": {},
   "outputs": [
    {
     "data": {
      "text/html": [
       "<div>\n",
       "<style scoped>\n",
       "    .dataframe tbody tr th:only-of-type {\n",
       "        vertical-align: middle;\n",
       "    }\n",
       "\n",
       "    .dataframe tbody tr th {\n",
       "        vertical-align: top;\n",
       "    }\n",
       "\n",
       "    .dataframe thead th {\n",
       "        text-align: right;\n",
       "    }\n",
       "</style>\n",
       "<table border=\"1\" class=\"dataframe\">\n",
       "  <thead>\n",
       "    <tr style=\"text-align: right;\">\n",
       "      <th></th>\n",
       "      <th>CMPLNT_NUM</th>\n",
       "      <th>ADDR_PCT_CD</th>\n",
       "      <th>BORO_NM</th>\n",
       "      <th>CMPLNT_FR_DT</th>\n",
       "      <th>CMPLNT_FR_TM</th>\n",
       "      <th>CMPLNT_TO_DT</th>\n",
       "      <th>CMPLNT_TO_TM</th>\n",
       "      <th>CRM_ATPT_CPTD_CD</th>\n",
       "      <th>JURIS_DESC</th>\n",
       "      <th>KY_CD</th>\n",
       "      <th>...</th>\n",
       "      <th>SUSP_RACE</th>\n",
       "      <th>U</th>\n",
       "      <th>VIC_AGE_GROUP</th>\n",
       "      <th>VIC_RACE</th>\n",
       "      <th>VIC_SEX</th>\n",
       "      <th>X_COORD_CD</th>\n",
       "      <th>Y_COORD_CD</th>\n",
       "      <th>Latitude</th>\n",
       "      <th>Longitude</th>\n",
       "      <th>Lat_Lon</th>\n",
       "    </tr>\n",
       "  </thead>\n",
       "  <tbody>\n",
       "    <tr>\n",
       "      <th>103</th>\n",
       "      <td>480677193</td>\n",
       "      <td>10</td>\n",
       "      <td>NaN</td>\n",
       "      <td>6/1/2012</td>\n",
       "      <td>16:40:00</td>\n",
       "      <td>NaN</td>\n",
       "      <td>NaN</td>\n",
       "      <td>COMPLETED</td>\n",
       "      <td>N.Y. POLICE DEPT</td>\n",
       "      <td>101</td>\n",
       "      <td>...</td>\n",
       "      <td>WHITE</td>\n",
       "      <td>U</td>\n",
       "      <td>45-64</td>\n",
       "      <td>WHITE</td>\n",
       "      <td>M</td>\n",
       "      <td>985447</td>\n",
       "      <td>211285</td>\n",
       "      <td>40.74661324</td>\n",
       "      <td>-73.9956815</td>\n",
       "      <td>(40.746613240000045, -73.99568150499994)</td>\n",
       "    </tr>\n",
       "    <tr>\n",
       "      <th>106</th>\n",
       "      <td>659949337</td>\n",
       "      <td>25</td>\n",
       "      <td>NaN</td>\n",
       "      <td>7/15/2012</td>\n",
       "      <td>1:33:00</td>\n",
       "      <td>NaN</td>\n",
       "      <td>NaN</td>\n",
       "      <td>COMPLETED</td>\n",
       "      <td>N.Y. POLICE DEPT</td>\n",
       "      <td>101</td>\n",
       "      <td>...</td>\n",
       "      <td>NaN</td>\n",
       "      <td>U</td>\n",
       "      <td>25-44</td>\n",
       "      <td>BLACK</td>\n",
       "      <td>M</td>\n",
       "      <td>1002413</td>\n",
       "      <td>232800</td>\n",
       "      <td>40.80564768</td>\n",
       "      <td>-73.93439348</td>\n",
       "      <td>(40.80564768200003, -73.93439347599997)</td>\n",
       "    </tr>\n",
       "    <tr>\n",
       "      <th>134</th>\n",
       "      <td>886672937</td>\n",
       "      <td>114</td>\n",
       "      <td>NaN</td>\n",
       "      <td>7/1/2013</td>\n",
       "      <td>14:56:00</td>\n",
       "      <td>NaN</td>\n",
       "      <td>NaN</td>\n",
       "      <td>COMPLETED</td>\n",
       "      <td>N.Y. HOUSING POLICE</td>\n",
       "      <td>101</td>\n",
       "      <td>...</td>\n",
       "      <td>NaN</td>\n",
       "      <td>U</td>\n",
       "      <td>25-44</td>\n",
       "      <td>UNKNOWN</td>\n",
       "      <td>M</td>\n",
       "      <td>1002577</td>\n",
       "      <td>221583</td>\n",
       "      <td>40.7748597</td>\n",
       "      <td>-73.93383168</td>\n",
       "      <td>(40.77485969700007, -73.93383168399998)</td>\n",
       "    </tr>\n",
       "    <tr>\n",
       "      <th>143</th>\n",
       "      <td>560345129</td>\n",
       "      <td>23</td>\n",
       "      <td>NaN</td>\n",
       "      <td>10/31/2013</td>\n",
       "      <td>19:44:00</td>\n",
       "      <td>NaN</td>\n",
       "      <td>NaN</td>\n",
       "      <td>COMPLETED</td>\n",
       "      <td>N.Y. POLICE DEPT</td>\n",
       "      <td>101</td>\n",
       "      <td>...</td>\n",
       "      <td>BLACK</td>\n",
       "      <td>U</td>\n",
       "      <td>18-24</td>\n",
       "      <td>BLACK</td>\n",
       "      <td>M</td>\n",
       "      <td>1000267</td>\n",
       "      <td>225915</td>\n",
       "      <td>40.78675438</td>\n",
       "      <td>-73.94216163</td>\n",
       "      <td>(40.78675437600003, -73.94216162599997)</td>\n",
       "    </tr>\n",
       "    <tr>\n",
       "      <th>149</th>\n",
       "      <td>789951248</td>\n",
       "      <td>47</td>\n",
       "      <td>NaN</td>\n",
       "      <td>1/1/2014</td>\n",
       "      <td>20:10:00</td>\n",
       "      <td>NaN</td>\n",
       "      <td>NaN</td>\n",
       "      <td>COMPLETED</td>\n",
       "      <td>N.Y. POLICE DEPT</td>\n",
       "      <td>101</td>\n",
       "      <td>...</td>\n",
       "      <td>BLACK</td>\n",
       "      <td>U</td>\n",
       "      <td>25-44</td>\n",
       "      <td>BLACK</td>\n",
       "      <td>M</td>\n",
       "      <td>1026595</td>\n",
       "      <td>262849</td>\n",
       "      <td>40.88804042</td>\n",
       "      <td>-73.84685417</td>\n",
       "      <td>(40.88804042400005, -73.84685417199995)</td>\n",
       "    </tr>\n",
       "    <tr>\n",
       "      <th>...</th>\n",
       "      <td>...</td>\n",
       "      <td>...</td>\n",
       "      <td>...</td>\n",
       "      <td>...</td>\n",
       "      <td>...</td>\n",
       "      <td>...</td>\n",
       "      <td>...</td>\n",
       "      <td>...</td>\n",
       "      <td>...</td>\n",
       "      <td>...</td>\n",
       "      <td>...</td>\n",
       "      <td>...</td>\n",
       "      <td>...</td>\n",
       "      <td>...</td>\n",
       "      <td>...</td>\n",
       "      <td>...</td>\n",
       "      <td>...</td>\n",
       "      <td>...</td>\n",
       "      <td>...</td>\n",
       "      <td>...</td>\n",
       "      <td>...</td>\n",
       "    </tr>\n",
       "    <tr>\n",
       "      <th>196621</th>\n",
       "      <td>NaN</td>\n",
       "      <td>NaN</td>\n",
       "      <td>NaN</td>\n",
       "      <td>NaN</td>\n",
       "      <td>NaN</td>\n",
       "      <td>NaN</td>\n",
       "      <td>NaN</td>\n",
       "      <td>NaN</td>\n",
       "      <td>NaN</td>\n",
       "      <td>NaN</td>\n",
       "      <td>...</td>\n",
       "      <td>NaN</td>\n",
       "      <td>U</td>\n",
       "      <td>NaN</td>\n",
       "      <td>NaN</td>\n",
       "      <td>NaN</td>\n",
       "      <td>NaN</td>\n",
       "      <td>NaN</td>\n",
       "      <td>NaN</td>\n",
       "      <td>NaN</td>\n",
       "      <td>NaN</td>\n",
       "    </tr>\n",
       "    <tr>\n",
       "      <th>196622</th>\n",
       "      <td>NaN</td>\n",
       "      <td>NaN</td>\n",
       "      <td>NaN</td>\n",
       "      <td>NaN</td>\n",
       "      <td>NaN</td>\n",
       "      <td>NaN</td>\n",
       "      <td>NaN</td>\n",
       "      <td>NaN</td>\n",
       "      <td>NaN</td>\n",
       "      <td>NaN</td>\n",
       "      <td>...</td>\n",
       "      <td>NaN</td>\n",
       "      <td>U</td>\n",
       "      <td>NaN</td>\n",
       "      <td>NaN</td>\n",
       "      <td>NaN</td>\n",
       "      <td>NaN</td>\n",
       "      <td>NaN</td>\n",
       "      <td>NaN</td>\n",
       "      <td>NaN</td>\n",
       "      <td>NaN</td>\n",
       "    </tr>\n",
       "    <tr>\n",
       "      <th>196623</th>\n",
       "      <td>NaN</td>\n",
       "      <td>NaN</td>\n",
       "      <td>NaN</td>\n",
       "      <td>NaN</td>\n",
       "      <td>NaN</td>\n",
       "      <td>NaN</td>\n",
       "      <td>NaN</td>\n",
       "      <td>NaN</td>\n",
       "      <td>NaN</td>\n",
       "      <td>NaN</td>\n",
       "      <td>...</td>\n",
       "      <td>NaN</td>\n",
       "      <td>U</td>\n",
       "      <td>NaN</td>\n",
       "      <td>NaN</td>\n",
       "      <td>NaN</td>\n",
       "      <td>NaN</td>\n",
       "      <td>NaN</td>\n",
       "      <td>NaN</td>\n",
       "      <td>NaN</td>\n",
       "      <td>NaN</td>\n",
       "    </tr>\n",
       "    <tr>\n",
       "      <th>196624</th>\n",
       "      <td>NaN</td>\n",
       "      <td>NaN</td>\n",
       "      <td>NaN</td>\n",
       "      <td>NaN</td>\n",
       "      <td>NaN</td>\n",
       "      <td>NaN</td>\n",
       "      <td>NaN</td>\n",
       "      <td>NaN</td>\n",
       "      <td>NaN</td>\n",
       "      <td>NaN</td>\n",
       "      <td>...</td>\n",
       "      <td>NaN</td>\n",
       "      <td>U</td>\n",
       "      <td>NaN</td>\n",
       "      <td>NaN</td>\n",
       "      <td>NaN</td>\n",
       "      <td>NaN</td>\n",
       "      <td>NaN</td>\n",
       "      <td>NaN</td>\n",
       "      <td>NaN</td>\n",
       "      <td>NaN</td>\n",
       "    </tr>\n",
       "    <tr>\n",
       "      <th>196625</th>\n",
       "      <td>NaN</td>\n",
       "      <td>NaN</td>\n",
       "      <td>NaN</td>\n",
       "      <td>NaN</td>\n",
       "      <td>NaN</td>\n",
       "      <td>NaN</td>\n",
       "      <td>NaN</td>\n",
       "      <td>NaN</td>\n",
       "      <td>NaN</td>\n",
       "      <td>NaN</td>\n",
       "      <td>...</td>\n",
       "      <td>NaN</td>\n",
       "      <td>U</td>\n",
       "      <td>NaN</td>\n",
       "      <td>NaN</td>\n",
       "      <td>NaN</td>\n",
       "      <td>NaN</td>\n",
       "      <td>NaN</td>\n",
       "      <td>NaN</td>\n",
       "      <td>NaN</td>\n",
       "      <td>NaN</td>\n",
       "    </tr>\n",
       "  </tbody>\n",
       "</table>\n",
       "<p>340 rows × 29 columns</p>\n",
       "</div>"
      ],
      "text/plain": [
       "       CMPLNT_NUM ADDR_PCT_CD BORO_NM CMPLNT_FR_DT CMPLNT_FR_TM CMPLNT_TO_DT  \\\n",
       "103     480677193          10     NaN     6/1/2012     16:40:00          NaN   \n",
       "106     659949337          25     NaN    7/15/2012      1:33:00          NaN   \n",
       "134     886672937         114     NaN     7/1/2013     14:56:00          NaN   \n",
       "143     560345129          23     NaN   10/31/2013     19:44:00          NaN   \n",
       "149     789951248          47     NaN     1/1/2014     20:10:00          NaN   \n",
       "...           ...         ...     ...          ...          ...          ...   \n",
       "196621        NaN         NaN     NaN          NaN          NaN          NaN   \n",
       "196622        NaN         NaN     NaN          NaN          NaN          NaN   \n",
       "196623        NaN         NaN     NaN          NaN          NaN          NaN   \n",
       "196624        NaN         NaN     NaN          NaN          NaN          NaN   \n",
       "196625        NaN         NaN     NaN          NaN          NaN          NaN   \n",
       "\n",
       "       CMPLNT_TO_TM CRM_ATPT_CPTD_CD           JURIS_DESC KY_CD  ...  \\\n",
       "103             NaN        COMPLETED     N.Y. POLICE DEPT   101  ...   \n",
       "106             NaN        COMPLETED     N.Y. POLICE DEPT   101  ...   \n",
       "134             NaN        COMPLETED  N.Y. HOUSING POLICE   101  ...   \n",
       "143             NaN        COMPLETED     N.Y. POLICE DEPT   101  ...   \n",
       "149             NaN        COMPLETED     N.Y. POLICE DEPT   101  ...   \n",
       "...             ...              ...                  ...   ...  ...   \n",
       "196621          NaN              NaN                  NaN   NaN  ...   \n",
       "196622          NaN              NaN                  NaN   NaN  ...   \n",
       "196623          NaN              NaN                  NaN   NaN  ...   \n",
       "196624          NaN              NaN                  NaN   NaN  ...   \n",
       "196625          NaN              NaN                  NaN   NaN  ...   \n",
       "\n",
       "       SUSP_RACE  U VIC_AGE_GROUP VIC_RACE VIC_SEX X_COORD_CD Y_COORD_CD  \\\n",
       "103        WHITE  U         45-64    WHITE       M     985447     211285   \n",
       "106          NaN  U         25-44    BLACK       M    1002413     232800   \n",
       "134          NaN  U         25-44  UNKNOWN       M    1002577     221583   \n",
       "143        BLACK  U         18-24    BLACK       M    1000267     225915   \n",
       "149        BLACK  U         25-44    BLACK       M    1026595     262849   \n",
       "...          ... ..           ...      ...     ...        ...        ...   \n",
       "196621       NaN  U           NaN      NaN     NaN        NaN        NaN   \n",
       "196622       NaN  U           NaN      NaN     NaN        NaN        NaN   \n",
       "196623       NaN  U           NaN      NaN     NaN        NaN        NaN   \n",
       "196624       NaN  U           NaN      NaN     NaN        NaN        NaN   \n",
       "196625       NaN  U           NaN      NaN     NaN        NaN        NaN   \n",
       "\n",
       "           Latitude     Longitude                                   Lat_Lon  \n",
       "103     40.74661324   -73.9956815  (40.746613240000045, -73.99568150499994)  \n",
       "106     40.80564768  -73.93439348   (40.80564768200003, -73.93439347599997)  \n",
       "134      40.7748597  -73.93383168   (40.77485969700007, -73.93383168399998)  \n",
       "143     40.78675438  -73.94216163   (40.78675437600003, -73.94216162599997)  \n",
       "149     40.88804042  -73.84685417   (40.88804042400005, -73.84685417199995)  \n",
       "...             ...           ...                                       ...  \n",
       "196621          NaN           NaN                                       NaN  \n",
       "196622          NaN           NaN                                       NaN  \n",
       "196623          NaN           NaN                                       NaN  \n",
       "196624          NaN           NaN                                       NaN  \n",
       "196625          NaN           NaN                                       NaN  \n",
       "\n",
       "[340 rows x 29 columns]"
      ]
     },
     "execution_count": 52,
     "metadata": {},
     "output_type": "execute_result"
    }
   ],
   "source": [
    "nypd.loc[nypd[\"BORO_NM\"].isnull()]"
   ]
  },
  {
   "cell_type": "code",
   "execution_count": 53,
   "metadata": {},
   "outputs": [
    {
     "data": {
      "text/plain": [
       "196626"
      ]
     },
     "execution_count": 53,
     "metadata": {},
     "output_type": "execute_result"
    }
   ],
   "source": [
    "len(nypd)"
   ]
  },
  {
   "cell_type": "code",
   "execution_count": 54,
   "metadata": {},
   "outputs": [
    {
     "data": {
      "text/plain": [
       "CMPLNT_NUM           196474\n",
       "ADDR_PCT_CD          196474\n",
       "BORO_NM              196286\n",
       "CMPLNT_FR_DT         196474\n",
       "CMPLNT_FR_TM         196474\n",
       "CMPLNT_TO_DT         176827\n",
       "CMPLNT_TO_TM         176883\n",
       "CRM_ATPT_CPTD_CD     196474\n",
       "JURIS_DESC           196474\n",
       "KY_CD                196474\n",
       "LAW_CAT_CD           196474\n",
       "LOC_OF_OCCUR_DESC    165080\n",
       "OFNS_DESC            196473\n",
       "PATROL_BORO          196299\n",
       "PD_CD                196299\n",
       "PD_DESC              196299\n",
       "PREM_TYP_DESC        195893\n",
       "RPT_DT               196474\n",
       "SUSP_AGE_GROUP       149785\n",
       "SUSP_RACE            149785\n",
       "U                    196626\n",
       "VIC_AGE_GROUP        196473\n",
       "VIC_RACE             196473\n",
       "VIC_SEX              196473\n",
       "X_COORD_CD           196474\n",
       "Y_COORD_CD           196474\n",
       "Latitude             196474\n",
       "Longitude            196474\n",
       "Lat_Lon              196474\n",
       "dtype: int64"
      ]
     },
     "execution_count": 54,
     "metadata": {},
     "output_type": "execute_result"
    }
   ],
   "source": [
    "nypd.count()"
   ]
  },
  {
   "cell_type": "code",
   "execution_count": 55,
   "metadata": {},
   "outputs": [
    {
     "data": {
      "text/plain": [
       "COMPLETED    193287\n",
       "ATTEMPTED      3187\n",
       "Name: CRM_ATPT_CPTD_CD, dtype: int64"
      ]
     },
     "execution_count": 55,
     "metadata": {},
     "output_type": "execute_result"
    }
   ],
   "source": [
    "nypd['CRM_ATPT_CPTD_CD'].value_counts()"
   ]
  },
  {
   "cell_type": "code",
   "execution_count": 56,
   "metadata": {},
   "outputs": [
    {
     "data": {
      "text/plain": [
       "COMPLETED    98.301852\n",
       "ATTEMPTED     1.620844\n",
       "Name: CRM_ATPT_CPTD_CD, dtype: float64"
      ]
     },
     "execution_count": 56,
     "metadata": {},
     "output_type": "execute_result"
    }
   ],
   "source": [
    "nypd['CRM_ATPT_CPTD_CD'].value_counts() * 100 /len(nypd)"
   ]
  },
  {
   "cell_type": "code",
   "execution_count": 57,
   "metadata": {},
   "outputs": [
    {
     "data": {
      "text/plain": [
       "F    78195\n",
       "M    71399\n",
       "D    28784\n",
       "E    18095\n",
       "Name: VIC_SEX, dtype: int64"
      ]
     },
     "execution_count": 57,
     "metadata": {},
     "output_type": "execute_result"
    }
   ],
   "source": [
    "nypd['VIC_SEX'].value_counts()"
   ]
  },
  {
   "cell_type": "code",
   "execution_count": 58,
   "metadata": {},
   "outputs": [
    {
     "data": {
      "text/plain": [
       "<matplotlib.axes._subplots.AxesSubplot at 0x215803f3580>"
      ]
     },
     "execution_count": 58,
     "metadata": {},
     "output_type": "execute_result"
    },
    {
     "data": {
      "image/png": "[encoded data removed]",
      "text/plain": [
       "<Figure size 432x288 with 1 Axes>"
      ]
     },
     "metadata": {
      "needs_background": "light"
     },
     "output_type": "display_data"
    }
   ],
   "source": [
    "%matplotlib inline\n",
    "\n",
    "alpha_color = 1\n",
    "\n",
    "nypd['VIC_SEX'].value_counts().plot(kind='bar',\n",
    "                                            color=['r', 'b', 'g', 'g'],\n",
    "                                            alpha=alpha_color)"
   ]
  },
  {
   "cell_type": "code",
   "execution_count": 59,
   "metadata": {},
   "outputs": [
    {
     "data": {
      "text/plain": [
       "<matplotlib.axes._subplots.AxesSubplot at 0x215805d0dc0>"
      ]
     },
     "execution_count": 59,
     "metadata": {},
     "output_type": "execute_result"
    },
    {
     "data": {
      "image/png": "[encoded data removed]",
      "text/plain": [
       "<Figure size 432x288 with 1 Axes>"
      ]
     },
     "metadata": {
      "needs_background": "light"
     },
     "output_type": "display_data"
    }
   ],
   "source": [
    "nypd['CRM_ATPT_CPTD_CD'].value_counts().plot(kind='bar',\n",
    "                                            color=['g', 'r'],\n",
    "                                            alpha=alpha_color)"
   ]
  },
  {
   "cell_type": "code",
   "execution_count": 60,
   "metadata": {},
   "outputs": [
    {
     "data": {
      "text/plain": [
       "MISDEMEANOR    102314\n",
       "FELONY          62300\n",
       "VIOLATION       31860\n",
       "Name: LAW_CAT_CD, dtype: int64"
      ]
     },
     "execution_count": 60,
     "metadata": {},
     "output_type": "execute_result"
    }
   ],
   "source": [
    "nypd['LAW_CAT_CD'].value_counts()"
   ]
  },
  {
   "cell_type": "code",
   "execution_count": 61,
   "metadata": {
    "scrolled": true
   },
   "outputs": [
    {
     "data": {
      "text/plain": [
       "<matplotlib.axes._subplots.AxesSubplot at 0x215806317f0>"
      ]
     },
     "execution_count": 61,
     "metadata": {},
     "output_type": "execute_result"
    },
    {
     "data": {
      "image/png": "[encoded data removed]",
      "text/plain": [
       "<Figure size 432x288 with 1 Axes>"
      ]
     },
     "metadata": {
      "needs_background": "light"
     },
     "output_type": "display_data"
    }
   ],
   "source": [
    "nypd['LAW_CAT_CD'].value_counts().plot(kind='bar',\n",
    "                                            color=['g', 'r', 'b'],\n",
    "                                            alpha=alpha_color)"
   ]
  },
  {
   "cell_type": "code",
   "execution_count": 62,
   "metadata": {},
   "outputs": [
    {
     "data": {
      "text/plain": [
       "<matplotlib.axes._subplots.AxesSubplot at 0x21580677d00>"
      ]
     },
     "execution_count": 62,
     "metadata": {},
     "output_type": "execute_result"
    },
    {
     "data": {
      "image/png": "[encoded data removed]",
      "text/plain": [
       "<Figure size 432x288 with 1 Axes>"
      ]
     },
     "metadata": {
      "needs_background": "light"
     },
     "output_type": "display_data"
    }
   ],
   "source": [
    "nypd['VIC_AGE_GROUP'].value_counts().plot(kind='bar',\n",
    "                                            color=['g', 'r', 'b'],\n",
    "                                            alpha=alpha_color)\n",
    "\n",
    "##Age needs cleaning."
   ]
  },
  {
   "cell_type": "code",
   "execution_count": 64,
   "metadata": {},
   "outputs": [],
   "source": [
    "nypd['VIC_SEX'].replace(['M','F','D','E'],[0,1,3,4],inplace=True)"
   ]
  },
  {
   "cell_type": "code",
   "execution_count": 67,
   "metadata": {},
   "outputs": [
    {
     "data": {
      "text/plain": [
       "<matplotlib.axes._subplots.AxesSubplot at 0x2158091c280>"
      ]
     },
     "execution_count": 67,
     "metadata": {},
     "output_type": "execute_result"
    },
    {
     "data": {
      "image/png": "[encoded data removed]",
      "text/plain": [
       "<Figure size 432x288 with 1 Axes>"
      ]
     },
     "metadata": {
      "needs_background": "light"
     },
     "output_type": "display_data"
    }
   ],
   "source": [
    "nypd[nypd['VIC_SEX'] == 1]['VIC_AGE_GROUP'].value_counts().plot(kind='bar')\n"
   ]
  },
  {
   "cell_type": "code",
   "execution_count": 68,
   "metadata": {},
   "outputs": [],
   "source": [
    "nypd['CRM_ATPT_CPTD_CD'].replace(['COMPLETED','ATTEMPTED'],[0,1],inplace=True)"
   ]
  },
  {
   "cell_type": "code",
   "execution_count": 69,
   "metadata": {},
   "outputs": [
    {
     "data": {
      "text/plain": [
       "<matplotlib.axes._subplots.AxesSubplot at 0x2158031f2e0>"
      ]
     },
     "execution_count": 69,
     "metadata": {},
     "output_type": "execute_result"
    },
    {
     "data": {
      "image/png": "[encoded data removed]",
      "text/plain": [
       "<Figure size 432x288 with 1 Axes>"
      ]
     },
     "metadata": {
      "needs_background": "light"
     },
     "output_type": "display_data"
    }
   ],
   "source": [
    "nypd[nypd['CRM_ATPT_CPTD_CD'] == 0]['LAW_CAT_CD'].value_counts().plot(kind='bar')"
   ]
  },
  {
   "cell_type": "code",
   "execution_count": 70,
   "metadata": {},
   "outputs": [
    {
     "data": {
      "text/plain": [
       "<matplotlib.axes._subplots.AxesSubplot at 0x215c9ee0c70>"
      ]
     },
     "execution_count": 70,
     "metadata": {},
     "output_type": "execute_result"
    },
    {
     "data": {
      "image/png": "[encoded data removed]",
      "text/plain": [
       "<Figure size 432x288 with 1 Axes>"
      ]
     },
     "metadata": {
      "needs_background": "light"
     },
     "output_type": "display_data"
    }
   ],
   "source": [
    "nypd[nypd['CRM_ATPT_CPTD_CD'] == 1]['LAW_CAT_CD'].value_counts().plot(kind='bar')"
   ]
  },
  {
   "cell_type": "code",
   "execution_count": 71,
   "metadata": {},
   "outputs": [],
   "source": [
    "nypd['LAW_CAT_CD'].replace(['FELONY','MISDEMEANOR', 'VIOLATION'],[0,1,2],inplace=True)"
   ]
  },
  {
   "cell_type": "code",
   "execution_count": 72,
   "metadata": {},
   "outputs": [
    {
     "data": {
      "text/plain": [
       "<matplotlib.axes._subplots.AxesSubplot at 0x215809169d0>"
      ]
     },
     "execution_count": 72,
     "metadata": {},
     "output_type": "execute_result"
    },
    {
     "data": {
      "image/png": "[encoded data removed]",
      "text/plain": [
       "<Figure size 432x288 with 1 Axes>"
      ]
     },
     "metadata": {
      "needs_background": "light"
     },
     "output_type": "display_data"
    }
   ],
   "source": [
    "nypd[nypd['LAW_CAT_CD'] == 1]['VIC_SEX'].value_counts().plot(kind='bar')\n",
    "\n",
    "##Female is 1, and male is 0 Misdemeanor is prevelent among female vics"
   ]
  },
  {
   "cell_type": "code",
   "execution_count": 73,
   "metadata": {},
   "outputs": [
    {
     "data": {
      "text/plain": [
       "<matplotlib.axes._subplots.AxesSubplot at 0x215c992efd0>"
      ]
     },
     "execution_count": 73,
     "metadata": {},
     "output_type": "execute_result"
    },
    {
     "data": {
      "image/png": "[encoded data removed]",
      "text/plain": [
       "<Figure size 432x288 with 1 Axes>"
      ]
     },
     "metadata": {
      "needs_background": "light"
     },
     "output_type": "display_data"
    }
   ],
   "source": [
    "nypd[nypd['LAW_CAT_CD'] == 0]['VIC_SEX'].value_counts().plot(kind='bar')\n",
    "##Felony affects males"
   ]
  },
  {
   "cell_type": "code",
   "execution_count": 74,
   "metadata": {},
   "outputs": [
    {
     "data": {
      "text/plain": [
       "<matplotlib.axes._subplots.AxesSubplot at 0x215c9b17e80>"
      ]
     },
     "execution_count": 74,
     "metadata": {},
     "output_type": "execute_result"
    },
    {
     "data": {
      "image/png": "[encoded data removed]",
      "text/plain": [
       "<Figure size 432x288 with 1 Axes>"
      ]
     },
     "metadata": {
      "needs_background": "light"
     },
     "output_type": "display_data"
    }
   ],
   "source": [
    "nypd[nypd['LAW_CAT_CD'] == 2]['VIC_SEX'].value_counts().plot(kind='bar')\n",
    "##General violations affect mostly women"
   ]
  },
  {
   "cell_type": "code",
   "execution_count": 76,
   "metadata": {},
   "outputs": [
    {
     "data": {
      "text/plain": [
       "<matplotlib.axes._subplots.AxesSubplot at 0x215c5531790>"
      ]
     },
     "execution_count": 76,
     "metadata": {},
     "output_type": "execute_result"
    },
    {
     "data": {
      "image/png": "[encoded data removed]",
      "text/plain": [
       "<Figure size 432x288 with 1 Axes>"
      ]
     },
     "metadata": {
      "needs_background": "light"
     },
     "output_type": "display_data"
    }
   ],
   "source": [
    "nypd['BORO_NM'].value_counts().plot(kind='bar')"
   ]
  },
  {
   "cell_type": "code",
   "execution_count": 78,
   "metadata": {},
   "outputs": [
    {
     "data": {
      "text/plain": [
       "<matplotlib.axes._subplots.AxesSubplot at 0x215c53986a0>"
      ]
     },
     "execution_count": 78,
     "metadata": {},
     "output_type": "execute_result"
    },
    {
     "data": {
      "image/png": "[encoded data removed]",
      "text/plain": [
       "<Figure size 432x288 with 1 Axes>"
      ]
     },
     "metadata": {
      "needs_background": "light"
     },
     "output_type": "display_data"
    }
   ],
   "source": [
    "nypd[nypd['LAW_CAT_CD'] == 2]['BORO_NM'].value_counts().plot(kind='bar')"
   ]
  },
  {
   "cell_type": "code",
   "execution_count": 79,
   "metadata": {},
   "outputs": [
    {
     "data": {
      "text/plain": [
       "<matplotlib.axes._subplots.AxesSubplot at 0x215c993f5b0>"
      ]
     },
     "execution_count": 79,
     "metadata": {},
     "output_type": "execute_result"
    },
    {
     "data": {
      "image/png": "[encoded data removed]",
      "text/plain": [
       "<Figure size 432x288 with 1 Axes>"
      ]
     },
     "metadata": {
      "needs_background": "light"
     },
     "output_type": "display_data"
    }
   ],
   "source": [
    "nypd[nypd['LAW_CAT_CD'] == 1]['BORO_NM'].value_counts().plot(kind='bar')"
   ]
  },
  {
   "cell_type": "code",
   "execution_count": 80,
   "metadata": {},
   "outputs": [
    {
     "data": {
      "text/plain": [
       "<matplotlib.axes._subplots.AxesSubplot at 0x215800a44f0>"
      ]
     },
     "execution_count": 80,
     "metadata": {},
     "output_type": "execute_result"
    },
    {
     "data": {
      "image/png": "[encoded data removed]",
      "text/plain": [
       "<Figure size 432x288 with 1 Axes>"
      ]
     },
     "metadata": {
      "needs_background": "light"
     },
     "output_type": "display_data"
    }
   ],
   "source": [
    "nypd[nypd['LAW_CAT_CD'] == 0]['BORO_NM'].value_counts().plot(kind='bar')"
   ]
  },
  {
   "cell_type": "code",
   "execution_count": null,
   "metadata": {},
   "outputs": [],
   "source": []
  }
 ],
 "metadata": {
  "kernelspec": {
   "display_name": "Python 3",
   "language": "python",
   "name": "python3"
  },
  "language_info": {
   "codemirror_mode": {
    "name": "ipython",
    "version": 3
   },
   "file_extension": ".py",
   "mimetype": "text/x-python",
   "name": "python",
   "nbconvert_exporter": "python",
   "pygments_lexer": "ipython3",
   "version": "3.8.3"
  }
 },
 "nbformat": 4,
 "nbformat_minor": 4
}
